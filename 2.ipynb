{
 "cells": [
  {
   "cell_type": "markdown",
   "metadata": {},
   "source": [
    "# Parte 2: Automatización de Modelos de Crecimiento con Machine Learning"
   ]
  },
  {
   "cell_type": "code",
   "execution_count": 1,
   "metadata": {},
   "outputs": [],
   "source": [
    "#librerias utilizadas\n",
    "import pandas as pd \n",
    "import numpy as np\n",
    "import matplotlib.pyplot as plt\n",
    "import seaborn as sns\n",
    "import math\n",
    "from sklearn.metrics import r2_score\n",
    "from scipy.stats import gompertz\n",
    "from scipy.optimize import curve_fit\n",
    "from scipy.optimize import minimize\n",
    "from scipy.optimize import fsolve"
   ]
  },
  {
   "cell_type": "code",
   "execution_count": 2,
   "metadata": {},
   "outputs": [
    {
     "data": {
      "text/html": [
       "<div>\n",
       "<style scoped>\n",
       "    .dataframe tbody tr th:only-of-type {\n",
       "        vertical-align: middle;\n",
       "    }\n",
       "\n",
       "    .dataframe tbody tr th {\n",
       "        vertical-align: top;\n",
       "    }\n",
       "\n",
       "    .dataframe thead th {\n",
       "        text-align: right;\n",
       "    }\n",
       "</style>\n",
       "<table border=\"1\" class=\"dataframe\">\n",
       "  <thead>\n",
       "    <tr style=\"text-align: right;\">\n",
       "      <th></th>\n",
       "      <th>Grupo</th>\n",
       "      <th>Fecha Inicial</th>\n",
       "      <th>Fecha Final</th>\n",
       "      <th>Tiempo = Días</th>\n",
       "      <th>Peso Inicial Periodo (g)</th>\n",
       "    </tr>\n",
       "  </thead>\n",
       "  <tbody>\n",
       "    <tr>\n",
       "      <th>0</th>\n",
       "      <td>STRAIN_C</td>\n",
       "      <td>2019-09-17</td>\n",
       "      <td>2019-09-30</td>\n",
       "      <td>13</td>\n",
       "      <td>129.15883</td>\n",
       "    </tr>\n",
       "    <tr>\n",
       "      <th>1</th>\n",
       "      <td>STRAIN_C</td>\n",
       "      <td>2019-09-17</td>\n",
       "      <td>2019-10-31</td>\n",
       "      <td>44</td>\n",
       "      <td>145.20931</td>\n",
       "    </tr>\n",
       "    <tr>\n",
       "      <th>2</th>\n",
       "      <td>STRAIN_C</td>\n",
       "      <td>2019-09-17</td>\n",
       "      <td>2019-11-30</td>\n",
       "      <td>74</td>\n",
       "      <td>246.35011</td>\n",
       "    </tr>\n",
       "    <tr>\n",
       "      <th>3</th>\n",
       "      <td>STRAIN_C</td>\n",
       "      <td>2019-09-17</td>\n",
       "      <td>2019-12-31</td>\n",
       "      <td>105</td>\n",
       "      <td>384.59903</td>\n",
       "    </tr>\n",
       "    <tr>\n",
       "      <th>4</th>\n",
       "      <td>STRAIN_C</td>\n",
       "      <td>2019-09-17</td>\n",
       "      <td>2020-01-31</td>\n",
       "      <td>136</td>\n",
       "      <td>547.73592</td>\n",
       "    </tr>\n",
       "  </tbody>\n",
       "</table>\n",
       "</div>"
      ],
      "text/plain": [
       "      Grupo Fecha Inicial Fecha Final  Tiempo = Días  Peso Inicial Periodo (g)\n",
       "0  STRAIN_C    2019-09-17  2019-09-30             13                 129.15883\n",
       "1  STRAIN_C    2019-09-17  2019-10-31             44                 145.20931\n",
       "2  STRAIN_C    2019-09-17  2019-11-30             74                 246.35011\n",
       "3  STRAIN_C    2019-09-17  2019-12-31            105                 384.59903\n",
       "4  STRAIN_C    2019-09-17  2020-01-31            136                 547.73592"
      ]
     },
     "execution_count": 2,
     "metadata": {},
     "output_type": "execute_result"
    }
   ],
   "source": [
    "file = 'PRUEBA_TECNICA_AREA_DE_BIOECONOMIA.xlsx'\n",
    "df = pd.read_excel(file,  sheet_name='PARTE_2', skiprows=range(0,3), usecols=lambda x: 'Unnamed' not in x,)\n",
    "df.head(5)"
   ]
  },
  {
   "cell_type": "code",
   "execution_count": 3,
   "metadata": {},
   "outputs": [
    {
     "name": "stdout",
     "output_type": "stream",
     "text": [
      "<class 'pandas.core.frame.DataFrame'>\n",
      "RangeIndex: 4952 entries, 0 to 4951\n",
      "Data columns (total 5 columns):\n",
      " #   Column                    Non-Null Count  Dtype         \n",
      "---  ------                    --------------  -----         \n",
      " 0   Grupo                     4952 non-null   object        \n",
      " 1   Fecha Inicial             4952 non-null   datetime64[ns]\n",
      " 2   Fecha Final               4952 non-null   datetime64[ns]\n",
      " 3   Tiempo = Días             4952 non-null   int64         \n",
      " 4   Peso Inicial Periodo (g)  4952 non-null   float64       \n",
      "dtypes: datetime64[ns](2), float64(1), int64(1), object(1)\n",
      "memory usage: 193.6+ KB\n"
     ]
    }
   ],
   "source": [
    "df.info()"
   ]
  },
  {
   "cell_type": "code",
   "execution_count": 4,
   "metadata": {},
   "outputs": [
    {
     "data": {
      "text/html": [
       "<div>\n",
       "<style scoped>\n",
       "    .dataframe tbody tr th:only-of-type {\n",
       "        vertical-align: middle;\n",
       "    }\n",
       "\n",
       "    .dataframe tbody tr th {\n",
       "        vertical-align: top;\n",
       "    }\n",
       "\n",
       "    .dataframe thead th {\n",
       "        text-align: right;\n",
       "    }\n",
       "</style>\n",
       "<table border=\"1\" class=\"dataframe\">\n",
       "  <thead>\n",
       "    <tr style=\"text-align: right;\">\n",
       "      <th></th>\n",
       "      <th>Tiempo = Días</th>\n",
       "      <th>Peso Inicial Periodo (g)</th>\n",
       "    </tr>\n",
       "  </thead>\n",
       "  <tbody>\n",
       "    <tr>\n",
       "      <th>count</th>\n",
       "      <td>4952.000000</td>\n",
       "      <td>4952.000000</td>\n",
       "    </tr>\n",
       "    <tr>\n",
       "      <th>mean</th>\n",
       "      <td>235.602787</td>\n",
       "      <td>1920.536369</td>\n",
       "    </tr>\n",
       "    <tr>\n",
       "      <th>std</th>\n",
       "      <td>145.784646</td>\n",
       "      <td>1626.495373</td>\n",
       "    </tr>\n",
       "    <tr>\n",
       "      <th>min</th>\n",
       "      <td>-335.000000</td>\n",
       "      <td>97.100000</td>\n",
       "    </tr>\n",
       "    <tr>\n",
       "      <th>25%</th>\n",
       "      <td>113.000000</td>\n",
       "      <td>496.211235</td>\n",
       "    </tr>\n",
       "    <tr>\n",
       "      <th>50%</th>\n",
       "      <td>235.000000</td>\n",
       "      <td>1452.853015</td>\n",
       "    </tr>\n",
       "    <tr>\n",
       "      <th>75%</th>\n",
       "      <td>358.000000</td>\n",
       "      <td>3151.432040</td>\n",
       "    </tr>\n",
       "    <tr>\n",
       "      <th>max</th>\n",
       "      <td>576.000000</td>\n",
       "      <td>8183.247360</td>\n",
       "    </tr>\n",
       "  </tbody>\n",
       "</table>\n",
       "</div>"
      ],
      "text/plain": [
       "       Tiempo = Días  Peso Inicial Periodo (g)\n",
       "count    4952.000000               4952.000000\n",
       "mean      235.602787               1920.536369\n",
       "std       145.784646               1626.495373\n",
       "min      -335.000000                 97.100000\n",
       "25%       113.000000                496.211235\n",
       "50%       235.000000               1452.853015\n",
       "75%       358.000000               3151.432040\n",
       "max       576.000000               8183.247360"
      ]
     },
     "execution_count": 4,
     "metadata": {},
     "output_type": "execute_result"
    }
   ],
   "source": [
    "df.describe()"
   ]
  },
  {
   "cell_type": "code",
   "execution_count": null,
   "metadata": {},
   "outputs": [
    {
     "data": {
      "text/html": [
       "<div>\n",
       "<style scoped>\n",
       "    .dataframe tbody tr th:only-of-type {\n",
       "        vertical-align: middle;\n",
       "    }\n",
       "\n",
       "    .dataframe tbody tr th {\n",
       "        vertical-align: top;\n",
       "    }\n",
       "\n",
       "    .dataframe thead th {\n",
       "        text-align: right;\n",
       "    }\n",
       "</style>\n",
       "<table border=\"1\" class=\"dataframe\">\n",
       "  <thead>\n",
       "    <tr style=\"text-align: right;\">\n",
       "      <th></th>\n",
       "      <th>Grupo</th>\n",
       "      <th>Fecha Inicial</th>\n",
       "      <th>Fecha Final</th>\n",
       "      <th>Tiempo = Días</th>\n",
       "      <th>Peso Inicial Periodo (g)</th>\n",
       "    </tr>\n",
       "  </thead>\n",
       "  <tbody>\n",
       "    <tr>\n",
       "      <th>4914</th>\n",
       "      <td>STRAIN_C</td>\n",
       "      <td>2019-12-01</td>\n",
       "      <td>2018-12-31</td>\n",
       "      <td>-335</td>\n",
       "      <td>235.89554</td>\n",
       "    </tr>\n",
       "    <tr>\n",
       "      <th>4915</th>\n",
       "      <td>STRAIN_C</td>\n",
       "      <td>2019-12-01</td>\n",
       "      <td>2019-01-31</td>\n",
       "      <td>-304</td>\n",
       "      <td>272.27277</td>\n",
       "    </tr>\n",
       "    <tr>\n",
       "      <th>4916</th>\n",
       "      <td>STRAIN_C</td>\n",
       "      <td>2019-12-01</td>\n",
       "      <td>2019-02-28</td>\n",
       "      <td>-276</td>\n",
       "      <td>401.42847</td>\n",
       "    </tr>\n",
       "    <tr>\n",
       "      <th>4917</th>\n",
       "      <td>STRAIN_C</td>\n",
       "      <td>2019-12-01</td>\n",
       "      <td>2019-03-31</td>\n",
       "      <td>-245</td>\n",
       "      <td>572.36273</td>\n",
       "    </tr>\n",
       "    <tr>\n",
       "      <th>4918</th>\n",
       "      <td>STRAIN_C</td>\n",
       "      <td>2019-12-01</td>\n",
       "      <td>2019-04-30</td>\n",
       "      <td>-215</td>\n",
       "      <td>759.80999</td>\n",
       "    </tr>\n",
       "    <tr>\n",
       "      <th>4919</th>\n",
       "      <td>STRAIN_C</td>\n",
       "      <td>2019-12-01</td>\n",
       "      <td>2019-05-31</td>\n",
       "      <td>-184</td>\n",
       "      <td>1048.65568</td>\n",
       "    </tr>\n",
       "    <tr>\n",
       "      <th>4920</th>\n",
       "      <td>STRAIN_C</td>\n",
       "      <td>2019-12-01</td>\n",
       "      <td>2019-06-30</td>\n",
       "      <td>-154</td>\n",
       "      <td>1321.60937</td>\n",
       "    </tr>\n",
       "    <tr>\n",
       "      <th>4921</th>\n",
       "      <td>STRAIN_C</td>\n",
       "      <td>2019-12-01</td>\n",
       "      <td>2019-07-31</td>\n",
       "      <td>-123</td>\n",
       "      <td>1711.89700</td>\n",
       "    </tr>\n",
       "    <tr>\n",
       "      <th>4922</th>\n",
       "      <td>STRAIN_C</td>\n",
       "      <td>2019-12-01</td>\n",
       "      <td>2019-08-31</td>\n",
       "      <td>-92</td>\n",
       "      <td>1870.57047</td>\n",
       "    </tr>\n",
       "    <tr>\n",
       "      <th>4923</th>\n",
       "      <td>STRAIN_C</td>\n",
       "      <td>2019-12-01</td>\n",
       "      <td>2019-09-30</td>\n",
       "      <td>-62</td>\n",
       "      <td>2163.04004</td>\n",
       "    </tr>\n",
       "    <tr>\n",
       "      <th>4924</th>\n",
       "      <td>STRAIN_C</td>\n",
       "      <td>2019-12-01</td>\n",
       "      <td>2019-10-31</td>\n",
       "      <td>-31</td>\n",
       "      <td>2548.89366</td>\n",
       "    </tr>\n",
       "    <tr>\n",
       "      <th>4925</th>\n",
       "      <td>STRAIN_C</td>\n",
       "      <td>2019-12-01</td>\n",
       "      <td>2019-11-30</td>\n",
       "      <td>-1</td>\n",
       "      <td>2968.44235</td>\n",
       "    </tr>\n",
       "    <tr>\n",
       "      <th>4933</th>\n",
       "      <td>STRAIN_C</td>\n",
       "      <td>2019-12-01</td>\n",
       "      <td>2018-12-31</td>\n",
       "      <td>-335</td>\n",
       "      <td>163.50000</td>\n",
       "    </tr>\n",
       "    <tr>\n",
       "      <th>4934</th>\n",
       "      <td>STRAIN_C</td>\n",
       "      <td>2019-12-01</td>\n",
       "      <td>2019-01-31</td>\n",
       "      <td>-304</td>\n",
       "      <td>203.08133</td>\n",
       "    </tr>\n",
       "    <tr>\n",
       "      <th>4935</th>\n",
       "      <td>STRAIN_C</td>\n",
       "      <td>2019-12-01</td>\n",
       "      <td>2019-02-28</td>\n",
       "      <td>-276</td>\n",
       "      <td>390.13672</td>\n",
       "    </tr>\n",
       "    <tr>\n",
       "      <th>4936</th>\n",
       "      <td>STRAIN_C</td>\n",
       "      <td>2019-12-01</td>\n",
       "      <td>2019-03-31</td>\n",
       "      <td>-245</td>\n",
       "      <td>620.84277</td>\n",
       "    </tr>\n",
       "    <tr>\n",
       "      <th>4937</th>\n",
       "      <td>STRAIN_C</td>\n",
       "      <td>2019-12-01</td>\n",
       "      <td>2019-04-30</td>\n",
       "      <td>-215</td>\n",
       "      <td>899.96100</td>\n",
       "    </tr>\n",
       "    <tr>\n",
       "      <th>4938</th>\n",
       "      <td>STRAIN_C</td>\n",
       "      <td>2019-12-01</td>\n",
       "      <td>2019-05-31</td>\n",
       "      <td>-184</td>\n",
       "      <td>1255.88794</td>\n",
       "    </tr>\n",
       "    <tr>\n",
       "      <th>4939</th>\n",
       "      <td>STRAIN_C</td>\n",
       "      <td>2019-12-01</td>\n",
       "      <td>2019-06-30</td>\n",
       "      <td>-154</td>\n",
       "      <td>1662.77144</td>\n",
       "    </tr>\n",
       "    <tr>\n",
       "      <th>4940</th>\n",
       "      <td>STRAIN_C</td>\n",
       "      <td>2019-12-01</td>\n",
       "      <td>2019-07-31</td>\n",
       "      <td>-123</td>\n",
       "      <td>2080.86412</td>\n",
       "    </tr>\n",
       "    <tr>\n",
       "      <th>4941</th>\n",
       "      <td>STRAIN_C</td>\n",
       "      <td>2019-12-01</td>\n",
       "      <td>2019-08-31</td>\n",
       "      <td>-92</td>\n",
       "      <td>2271.47912</td>\n",
       "    </tr>\n",
       "    <tr>\n",
       "      <th>4942</th>\n",
       "      <td>STRAIN_C</td>\n",
       "      <td>2019-12-01</td>\n",
       "      <td>2019-09-30</td>\n",
       "      <td>-62</td>\n",
       "      <td>2601.12023</td>\n",
       "    </tr>\n",
       "    <tr>\n",
       "      <th>4943</th>\n",
       "      <td>STRAIN_C</td>\n",
       "      <td>2019-12-01</td>\n",
       "      <td>2019-10-31</td>\n",
       "      <td>-31</td>\n",
       "      <td>3059.71511</td>\n",
       "    </tr>\n",
       "    <tr>\n",
       "      <th>4944</th>\n",
       "      <td>STRAIN_C</td>\n",
       "      <td>2019-12-01</td>\n",
       "      <td>2019-11-30</td>\n",
       "      <td>-1</td>\n",
       "      <td>3479.47921</td>\n",
       "    </tr>\n",
       "  </tbody>\n",
       "</table>\n",
       "</div>"
      ],
      "text/plain": [
       "         Grupo Fecha Inicial Fecha Final  Tiempo = Días  \\\n",
       "4914  STRAIN_C    2019-12-01  2018-12-31           -335   \n",
       "4915  STRAIN_C    2019-12-01  2019-01-31           -304   \n",
       "4916  STRAIN_C    2019-12-01  2019-02-28           -276   \n",
       "4917  STRAIN_C    2019-12-01  2019-03-31           -245   \n",
       "4918  STRAIN_C    2019-12-01  2019-04-30           -215   \n",
       "4919  STRAIN_C    2019-12-01  2019-05-31           -184   \n",
       "4920  STRAIN_C    2019-12-01  2019-06-30           -154   \n",
       "4921  STRAIN_C    2019-12-01  2019-07-31           -123   \n",
       "4922  STRAIN_C    2019-12-01  2019-08-31            -92   \n",
       "4923  STRAIN_C    2019-12-01  2019-09-30            -62   \n",
       "4924  STRAIN_C    2019-12-01  2019-10-31            -31   \n",
       "4925  STRAIN_C    2019-12-01  2019-11-30             -1   \n",
       "4933  STRAIN_C    2019-12-01  2018-12-31           -335   \n",
       "4934  STRAIN_C    2019-12-01  2019-01-31           -304   \n",
       "4935  STRAIN_C    2019-12-01  2019-02-28           -276   \n",
       "4936  STRAIN_C    2019-12-01  2019-03-31           -245   \n",
       "4937  STRAIN_C    2019-12-01  2019-04-30           -215   \n",
       "4938  STRAIN_C    2019-12-01  2019-05-31           -184   \n",
       "4939  STRAIN_C    2019-12-01  2019-06-30           -154   \n",
       "4940  STRAIN_C    2019-12-01  2019-07-31           -123   \n",
       "4941  STRAIN_C    2019-12-01  2019-08-31            -92   \n",
       "4942  STRAIN_C    2019-12-01  2019-09-30            -62   \n",
       "4943  STRAIN_C    2019-12-01  2019-10-31            -31   \n",
       "4944  STRAIN_C    2019-12-01  2019-11-30             -1   \n",
       "\n",
       "      Peso Inicial Periodo (g)  \n",
       "4914                 235.89554  \n",
       "4915                 272.27277  \n",
       "4916                 401.42847  \n",
       "4917                 572.36273  \n",
       "4918                 759.80999  \n",
       "4919                1048.65568  \n",
       "4920                1321.60937  \n",
       "4921                1711.89700  \n",
       "4922                1870.57047  \n",
       "4923                2163.04004  \n",
       "4924                2548.89366  \n",
       "4925                2968.44235  \n",
       "4933                 163.50000  \n",
       "4934                 203.08133  \n",
       "4935                 390.13672  \n",
       "4936                 620.84277  \n",
       "4937                 899.96100  \n",
       "4938                1255.88794  \n",
       "4939                1662.77144  \n",
       "4940                2080.86412  \n",
       "4941                2271.47912  \n",
       "4942                2601.12023  \n",
       "4943                3059.71511  \n",
       "4944                3479.47921  "
      ]
     },
     "execution_count": 5,
     "metadata": {},
     "output_type": "execute_result"
    }
   ],
   "source": [
    "df[df['Tiempo = Días'] <0] #verificación de días negativos"
   ]
  },
  {
   "cell_type": "code",
   "execution_count": 6,
   "metadata": {},
   "outputs": [
    {
     "name": "stderr",
     "output_type": "stream",
     "text": [
      "C:\\Users\\earac\\AppData\\Local\\Temp\\ipykernel_27820\\1852674343.py:4: SettingWithCopyWarning: \n",
      "A value is trying to be set on a copy of a slice from a DataFrame\n",
      "\n",
      "See the caveats in the documentation: https://pandas.pydata.org/pandas-docs/stable/user_guide/indexing.html#returning-a-view-versus-a-copy\n",
      "  df['Tiempo = Días'][index] *= -1  #\n"
     ]
    }
   ],
   "source": [
    "#Corrección de días con valor negativo\n",
    "for index in range(len(df)):\n",
    "    if df['Tiempo = Días'][index] < 0:\n",
    "        df['Tiempo = Días'][index] *= -1  # "
   ]
  },
  {
   "cell_type": "code",
   "execution_count": null,
   "metadata": {},
   "outputs": [
    {
     "data": {
      "text/html": [
       "<div>\n",
       "<style scoped>\n",
       "    .dataframe tbody tr th:only-of-type {\n",
       "        vertical-align: middle;\n",
       "    }\n",
       "\n",
       "    .dataframe tbody tr th {\n",
       "        vertical-align: top;\n",
       "    }\n",
       "\n",
       "    .dataframe thead th {\n",
       "        text-align: right;\n",
       "    }\n",
       "</style>\n",
       "<table border=\"1\" class=\"dataframe\">\n",
       "  <thead>\n",
       "    <tr style=\"text-align: right;\">\n",
       "      <th></th>\n",
       "      <th>Grupo</th>\n",
       "      <th>Fecha Inicial</th>\n",
       "      <th>Fecha Final</th>\n",
       "      <th>Tiempo = Días</th>\n",
       "      <th>Peso Inicial Periodo (g)</th>\n",
       "    </tr>\n",
       "  </thead>\n",
       "  <tbody>\n",
       "  </tbody>\n",
       "</table>\n",
       "</div>"
      ],
      "text/plain": [
       "Empty DataFrame\n",
       "Columns: [Grupo, Fecha Inicial, Fecha Final, Tiempo = Días, Peso Inicial Periodo (g)]\n",
       "Index: []"
      ]
     },
     "execution_count": 7,
     "metadata": {},
     "output_type": "execute_result"
    }
   ],
   "source": [
    "df[df['Tiempo = Días'] <0] #verificación de días negativos"
   ]
  },
  {
   "cell_type": "code",
   "execution_count": 8,
   "metadata": {},
   "outputs": [
    {
     "name": "stdout",
     "output_type": "stream",
     "text": [
      "                            OLS Regression Results                            \n",
      "==============================================================================\n",
      "Dep. Variable:                      y   R-squared:                       0.852\n",
      "Model:                            OLS   Adj. R-squared:                  0.852\n",
      "Method:                 Least Squares   F-statistic:                 2.855e+04\n",
      "Date:                Fri, 31 Jan 2025   Prob (F-statistic):               0.00\n",
      "Time:                        16:40:39   Log-Likelihood:                -38908.\n",
      "No. Observations:                4952   AIC:                         7.782e+04\n",
      "Df Residuals:                    4950   BIC:                         7.783e+04\n",
      "Df Model:                           1                                         \n",
      "Covariance Type:            nonrobust                                         \n",
      "==============================================================================\n",
      "                 coef    std err          t      P>|t|      [0.025      0.975]\n",
      "------------------------------------------------------------------------------\n",
      "const       -568.5426     17.204    -33.047      0.000    -602.270    -534.815\n",
      "x1            10.4920      0.062    168.960      0.000      10.370      10.614\n",
      "==============================================================================\n",
      "Omnibus:                     1719.297   Durbin-Watson:                   0.295\n",
      "Prob(Omnibus):                  0.000   Jarque-Bera (JB):            12331.539\n",
      "Skew:                           1.471   Prob(JB):                         0.00\n",
      "Kurtosis:                      10.149   Cond. No.                         536.\n",
      "==============================================================================\n",
      "\n",
      "Notes:\n",
      "[1] Standard Errors assume that the covariance matrix of the errors is correctly specified.\n"
     ]
    }
   ],
   "source": [
    "import statsmodels.api as sm\n",
    "X = np.array(list(df['Tiempo = Días'].values)) ##remove last data point to make prediction\n",
    "y = np.array(list(df['Peso Inicial Periodo (g)'].values))  \n",
    "# Adding a constant to our independent variable for the intercept\n",
    "X_with_constant = sm.add_constant(X)\n",
    " \n",
    "# Fit the OLS model\n",
    "model_stats = sm.OLS(y, X_with_constant).fit()\n",
    " \n",
    "# Print the summary of the model\n",
    "print(model_stats.summary())"
   ]
  },
  {
   "cell_type": "markdown",
   "metadata": {},
   "source": [
    "## Modelos"
   ]
  },
  {
   "cell_type": "code",
   "execution_count": 9,
   "metadata": {},
   "outputs": [],
   "source": [
    "#modelo logístico\n",
    "def logistic_model(x,a,b,c):\n",
    "    return c/(1+np.exp(-(x-b)/a))\n",
    "#modelo gompertz\n",
    "def gompertz_model(x,a,b,c):\n",
    "    return c*np.exp(-b*np.exp(-x/a))"
   ]
  },
  {
   "cell_type": "code",
   "execution_count": 10,
   "metadata": {},
   "outputs": [
    {
     "name": "stdout",
     "output_type": "stream",
     "text": [
      "Peso inicial:  129.15883\n",
      "Peso final:  4361.68191\n"
     ]
    }
   ],
   "source": [
    "df1 = df.loc[0:14] #se toma el primer grupo para realizar pruebas\n",
    "\n",
    "x = np.array(list(df1['Tiempo = Días'].values)) #variable independiente\n",
    "y = np.array(list(df1['Peso Inicial Periodo (g)'].values))  #variable dependiente\n",
    "\n",
    "y0 = y[0]\n",
    "yf = y[-1]\n",
    "print(\"Peso inicial: \", y0)\n",
    "print(\"Peso final: \", yf)"
   ]
  },
  {
   "cell_type": "code",
   "execution_count": null,
   "metadata": {},
   "outputs": [
    {
     "name": "stdout",
     "output_type": "stream",
     "text": [
      ">>> Modelo Logístico\n",
      "Los parámetros son: a= 0.4129, b= -1.1356, c= 1672.1674\n",
      "              \n",
      "Root Mean Square Error:\n",
      "1358.4401\n",
      "R2 score:  0.000\n"
     ]
    },
    {
     "name": "stderr",
     "output_type": "stream",
     "text": [
      "c:\\Anaconda\\Lib\\site-packages\\scipy\\optimize\\_minpack_py.py:906: OptimizeWarning: Covariance of the parameters could not be estimated\n",
      "  warnings.warn('Covariance of the parameters could not be estimated',\n"
     ]
    }
   ],
   "source": [
    "print('>>> Modelo Logístico')\n",
    "params, covariance = curve_fit(logistic_model,x,y) #optimización\n",
    "a,b,c = params[0], params[1], params[2]\n",
    "print(\"Los parámetros son: a= \"+str(round(a,4)) + \", b= \" + str(round(b,4)) + \", c= \"+str(round(c,4)))\n",
    "print(\"              \")\n",
    "y_pred1 = logistic_model(x,a,b,c)\n",
    "MSE = np.square(np.subtract(y,y_pred1)).mean() \n",
    "RMSE = math.sqrt(MSE)\n",
    "print(\"Root Mean Square Error:\\n\" + str(round(RMSE,4)))\n",
    "print(\"R2 score: \", '{:.3f}'.format(r2_score(y,y_pred1)))"
   ]
  },
  {
   "cell_type": "code",
   "execution_count": null,
   "metadata": {},
   "outputs": [
    {
     "name": "stdout",
     "output_type": "stream",
     "text": [
      ">>> Modelo Gompertz\n",
      "Los parámetros son: a= 0.4129, b= -1.1356, c= 1672.1674\n",
      "              \n",
      "Root Mean Square Error:\n",
      "70.1011\n",
      "R2 score:  0.997\n"
     ]
    },
    {
     "name": "stderr",
     "output_type": "stream",
     "text": [
      "C:\\Users\\earac\\AppData\\Local\\Temp\\ipykernel_27820\\3138311326.py:6: RuntimeWarning: overflow encountered in exp\n",
      "  return c*np.exp(-b*np.exp(-x/a))\n",
      "C:\\Users\\earac\\AppData\\Local\\Temp\\ipykernel_27820\\3138311326.py:6: RuntimeWarning: overflow encountered in multiply\n",
      "  return c*np.exp(-b*np.exp(-x/a))\n"
     ]
    }
   ],
   "source": [
    "print('>>> Modelo Gompertz')\n",
    "params, covariance = curve_fit(gompertz_model,x,y) #optimización\n",
    "a1,b1,c1 = params[0], params[1], params[2]\n",
    "print(\"Los parámetros son: a= \"+str(round(a,4)) + \", b= \" + str(round(b,4)) + \", c= \"+str(round(c,4)))\n",
    "print(\"              \")\n",
    "y_pred2 = gompertz_model(x,a1,b1,c1)\n",
    "MSE = np.square(np.subtract(y,y_pred2)).mean() \n",
    "RMSE = math.sqrt(MSE)\n",
    "print(\"Root Mean Square Error:\\n\" + str(round(RMSE,4)))\n",
    "print(\"R2 score: \", '{:.3f}'.format(r2_score(y,y_pred2)))"
   ]
  },
  {
   "cell_type": "code",
   "execution_count": 13,
   "metadata": {},
   "outputs": [
    {
     "data": {
      "image/png": "[encoded data removed]",
      "text/plain": [
       "<Figure size 640x480 with 1 Axes>"
      ]
     },
     "metadata": {},
     "output_type": "display_data"
    }
   ],
   "source": [
    "plt.plot(x, y, 'r+', label=\"y-original\")\n",
    "plt.plot(x, y_pred1, label=\"y-logistica\")\n",
    "plt.plot(x, y_pred2, label=\"y-gompertz\")\n",
    "plt.xlabel('Tiempo = Días')\n",
    "plt.ylabel('Peso Inicial Periodo (g)')\n",
    "plt.legend(loc='best', fancybox=True, shadow=True)\n",
    "plt.show() "
   ]
  },
  {
   "cell_type": "markdown",
   "metadata": {},
   "source": [
    "## Generalizando el modelo"
   ]
  },
  {
   "cell_type": "code",
   "execution_count": 14,
   "metadata": {},
   "outputs": [
    {
     "name": "stdout",
     "output_type": "stream",
     "text": [
      "Peso inicial:  129.15883\n",
      "Peso final:  5241.10677\n"
     ]
    }
   ],
   "source": [
    "x = np.array(list(df['Tiempo = Días'].values)) \n",
    "y = np.array(list(df['Peso Inicial Periodo (g)'].values)) \n",
    "\n",
    "y0 = y[0]\n",
    "yf = y[-1]\n",
    "print(\"Peso inicial: \", y0)\n",
    "print(\"Peso final: \", yf)"
   ]
  },
  {
   "cell_type": "code",
   "execution_count": null,
   "metadata": {},
   "outputs": [
    {
     "name": "stdout",
     "output_type": "stream",
     "text": [
      ">>> Modelo Logístico\n",
      "Los parámetros son: a= 104.8992, b= 367.2298, c= 6635.8372\n",
      "              \n",
      "Root Mean Square Error:\n",
      "531.1173\n",
      "R2 score:  0.893\n"
     ]
    }
   ],
   "source": [
    "print('>>> Modelo Logístico')\n",
    "params, covariance = curve_fit(logistic_model,x,y) #optimización\n",
    "a,b,c = params[0], params[1], params[2]\n",
    "print(\"Los parámetros son: a= \"+str(round(a,4)) + \", b= \" + str(round(b,4)) + \", c= \"+str(round(c,4)))\n",
    "print(\"              \")\n",
    "y_pred1 = logistic_model(x,a,b,c)\n",
    "MSE1 = np.square(np.subtract(y,y_pred1)).mean() \n",
    "RMSE1 = math.sqrt(MSE1)\n",
    "print(\"Root Mean Square Error:\\n\" + str(round(RMSE1,4)))\n",
    "print(\"R2 score: \", '{:.3f}'.format(r2_score(y,y_pred1)))\n"
   ]
  },
  {
   "cell_type": "code",
   "execution_count": null,
   "metadata": {},
   "outputs": [
    {
     "name": "stdout",
     "output_type": "stream",
     "text": [
      ">>> Modelo Gompertz\n",
      "Los parámetros son: a= 104.8992, b= 367.2298, c= 6635.8372\n",
      "              \n",
      "Root Mean Square Error:\n",
      "531.8616\n",
      "R2 score:  0.893\n"
     ]
    },
    {
     "name": "stderr",
     "output_type": "stream",
     "text": [
      "C:\\Users\\earac\\AppData\\Local\\Temp\\ipykernel_27820\\3138311326.py:6: RuntimeWarning: overflow encountered in exp\n",
      "  return c*np.exp(-b*np.exp(-x/a))\n"
     ]
    }
   ],
   "source": [
    "print('>>> Modelo Gompertz')\n",
    "params, covariance = curve_fit(gompertz_model,x,y, maxfev=2000) #optimización\n",
    "a1,b1,c1 = params[0], params[1], params[2]\n",
    "print(\"Los parámetros son: a= \"+str(round(a,4)) + \", b= \" + str(round(b,4)) + \", c= \"+str(round(c,4)))\n",
    "print(\"              \")\n",
    "y_pred2 = gompertz_model(x,a1,b1,c1)\n",
    "MSE2 = np.square(np.subtract(y,y_pred2)).mean() \n",
    "RMSE2 = math.sqrt(MSE2)\n",
    "print(\"Root Mean Square Error:\\n\" + str(round(RMSE2,4)))\n",
    "print(\"R2 score: \", '{:.3f}'.format(r2_score(y,y_pred2)))"
   ]
  },
  {
   "cell_type": "code",
   "execution_count": 17,
   "metadata": {},
   "outputs": [
    {
     "data": {
      "image/png": "[encoded data removed]",
      "text/plain": [
       "<Figure size 640x480 with 1 Axes>"
      ]
     },
     "metadata": {},
     "output_type": "display_data"
    }
   ],
   "source": [
    "plt.plot(x, y, 'r+', label=\"y-original\")\n",
    "plt.plot(x, y_pred1, 'b+', label=\"y-logistica\")\n",
    "plt.plot(x, y_pred2, 'g+', label=\"y-gompertz\")\n",
    "plt.axvline(b, color='b', linestyle='--', label=f'Punto medio logistica (b = {b:.2f})')\n",
    "plt.axvline(a1, color='g', linestyle='--', label=f'Punto medio gompertz (a1 = {a1:.2f})')\n",
    "plt.xlabel('Tiempo = Días')\n",
    "plt.ylabel('Peso Inicial Periodo (g)')\n",
    "plt.legend(loc='best', shadow=True)\n",
    "plt.show() "
   ]
  },
  {
   "cell_type": "code",
   "execution_count": 18,
   "metadata": {},
   "outputs": [
    {
     "data": {
      "text/html": [
       "<div>\n",
       "<style scoped>\n",
       "    .dataframe tbody tr th:only-of-type {\n",
       "        vertical-align: middle;\n",
       "    }\n",
       "\n",
       "    .dataframe tbody tr th {\n",
       "        vertical-align: top;\n",
       "    }\n",
       "\n",
       "    .dataframe thead th {\n",
       "        text-align: right;\n",
       "    }\n",
       "</style>\n",
       "<table border=\"1\" class=\"dataframe\">\n",
       "  <thead>\n",
       "    <tr style=\"text-align: right;\">\n",
       "      <th></th>\n",
       "      <th>Parámetro</th>\n",
       "      <th>y-logistic</th>\n",
       "      <th>y-gompertz</th>\n",
       "    </tr>\n",
       "  </thead>\n",
       "  <tbody>\n",
       "    <tr>\n",
       "      <th>0</th>\n",
       "      <td>a</td>\n",
       "      <td>104.8992</td>\n",
       "      <td>279.4520</td>\n",
       "    </tr>\n",
       "    <tr>\n",
       "      <th>1</th>\n",
       "      <td>b</td>\n",
       "      <td>367.2298</td>\n",
       "      <td>4.6881</td>\n",
       "    </tr>\n",
       "    <tr>\n",
       "      <th>2</th>\n",
       "      <td>c</td>\n",
       "      <td>6635.8372</td>\n",
       "      <td>11553.1644</td>\n",
       "    </tr>\n",
       "    <tr>\n",
       "      <th>3</th>\n",
       "      <td>RMSE</td>\n",
       "      <td>531.1173</td>\n",
       "      <td>531.8616</td>\n",
       "    </tr>\n",
       "    <tr>\n",
       "      <th>4</th>\n",
       "      <td>R2 score</td>\n",
       "      <td>0.8933</td>\n",
       "      <td>0.8931</td>\n",
       "    </tr>\n",
       "  </tbody>\n",
       "</table>\n",
       "</div>"
      ],
      "text/plain": [
       "  Parámetro  y-logistic  y-gompertz\n",
       "0         a    104.8992    279.4520\n",
       "1         b    367.2298      4.6881\n",
       "2         c   6635.8372  11553.1644\n",
       "3      RMSE    531.1173    531.8616\n",
       "4  R2 score      0.8933      0.8931"
      ]
     },
     "execution_count": 18,
     "metadata": {},
     "output_type": "execute_result"
    }
   ],
   "source": [
    "info1 = pd.DataFrame({'Parámetro':[\"a\", \"b\", \"c\", \"RMSE\", \"R2 score\"],\n",
    "                      'y-logistic':[a, b, c, RMSE1, r2_score(y,y_pred1)], \n",
    "                      'y-gompertz':[a1, b1, c1, RMSE2, r2_score(y,y_pred2)]}).round(decimals=4)\n",
    "info1"
   ]
  },
  {
   "cell_type": "code",
   "execution_count": 19,
   "metadata": {},
   "outputs": [
    {
     "name": "stdout",
     "output_type": "stream",
     "text": [
      "El peso es:  3314.2836727643016\n"
     ]
    }
   ],
   "source": [
    "#considerando 367 días: \n",
    "y_pred1 = logistic_model(367,a,b,c)\n",
    "print('El peso es: ', y_pred1 )"
   ]
  },
  {
   "cell_type": "code",
   "execution_count": null,
   "metadata": {},
   "outputs": [],
   "source": []
  }
 ],
 "metadata": {
  "kernelspec": {
   "display_name": "base",
   "language": "python",
   "name": "python3"
  },
  "language_info": {
   "codemirror_mode": {
    "name": "ipython",
    "version": 3
   },
   "file_extension": ".py",
   "mimetype": "text/x-python",
   "name": "python",
   "nbconvert_exporter": "python",
   "pygments_lexer": "ipython3",
   "version": "3.11.4"
  }
 },
 "nbformat": 4,
 "nbformat_minor": 2
}
